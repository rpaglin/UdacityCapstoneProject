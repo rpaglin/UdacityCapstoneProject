{
 "cells": [
  {
   "cell_type": "code",
   "execution_count": 1,
   "metadata": {},
   "outputs": [],
   "source": [
    "import pandas as pd\n",
    "import numpy as np\n",
    "import seaborn as sns\n",
    "import matplotlib.pyplot as plt\n"
   ]
  },
  {
   "cell_type": "code",
   "execution_count": 2,
   "metadata": {},
   "outputs": [
    {
     "name": "stdout",
     "output_type": "stream",
     "text": [
      "C:\\Users\\rpaglin\\OneDrive - Vodafone Group\\Desktop\\Nanodegree\\Nanodegree final prj\n"
     ]
    }
   ],
   "source": [
    "cd \"OneDrive - Vodafone Group/Desktop/Nanodegree/Nanodegree final prj\"\n"
   ]
  },
  {
   "cell_type": "code",
   "execution_count": 3,
   "metadata": {},
   "outputs": [
    {
     "name": "stdout",
     "output_type": "stream",
     "text": [
      "C:\\Users\\rpaglin\\OneDrive - Vodafone Group\\Desktop\\Nanodegree\\Nanodegree final prj\\AI_startercode\n"
     ]
    }
   ],
   "source": [
    "cd \"AI_startercode/\""
   ]
  },
  {
   "cell_type": "markdown",
   "metadata": {},
   "source": [
    "<b>Loading dataframe containing robot execution data:"
   ]
  },
  {
   "cell_type": "markdown",
   "metadata": {},
   "source": [
    "The dataframe include data from execution of maze navigation over 240 different mazes in 8 different robot configuration (to be compared in this notebook). As there is some random choice in maze navigation, each maze/configuration pair was tested 10 times, for a total of 240 x 8 x 10 = 19200 executions "
   ]
  },
  {
   "cell_type": "code",
   "execution_count": 4,
   "metadata": {},
   "outputs": [],
   "source": [
    "df=pd.read_csv('validrandommaze\\\\RobotEvaluationDataTest.csv')"
   ]
  },
  {
   "cell_type": "code",
   "execution_count": 5,
   "metadata": {},
   "outputs": [
    {
     "data": {
      "text/html": [
       "<div>\n",
       "<style scoped>\n",
       "    .dataframe tbody tr th:only-of-type {\n",
       "        vertical-align: middle;\n",
       "    }\n",
       "\n",
       "    .dataframe tbody tr th {\n",
       "        vertical-align: top;\n",
       "    }\n",
       "\n",
       "    .dataframe thead th {\n",
       "        text-align: right;\n",
       "    }\n",
       "</style>\n",
       "<table border=\"1\" class=\"dataframe\">\n",
       "  <thead>\n",
       "    <tr style=\"text-align: right;\">\n",
       "      <th></th>\n",
       "      <th>Unnamed: 0</th>\n",
       "      <th>MazeName</th>\n",
       "      <th>MazeSize</th>\n",
       "      <th>MazeAttempt</th>\n",
       "      <th>MazeNPossibleWalls</th>\n",
       "      <th>MazeNWalls</th>\n",
       "      <th>MazeShortestPath</th>\n",
       "      <th>RobotExpMode</th>\n",
       "      <th>RobotIteration</th>\n",
       "      <th>RobotRun0Moves</th>\n",
       "      <th>RobotRun1Moves</th>\n",
       "      <th>RobotRun0Known</th>\n",
       "      <th>RobotRun1Known</th>\n",
       "      <th>RobotKnownWalls</th>\n",
       "      <th>RobotPercWallsDisc</th>\n",
       "      <th>RobotPercMazeDiscRun0</th>\n",
       "      <th>RobotScore</th>\n",
       "    </tr>\n",
       "  </thead>\n",
       "  <tbody>\n",
       "    <tr>\n",
       "      <th>0</th>\n",
       "      <td>0</td>\n",
       "      <td>.\\validrandommaze\\ran_12_120_155621.txt</td>\n",
       "      <td>12</td>\n",
       "      <td>120</td>\n",
       "      <td>312</td>\n",
       "      <td>168</td>\n",
       "      <td>13</td>\n",
       "      <td>0</td>\n",
       "      <td>0</td>\n",
       "      <td>77</td>\n",
       "      <td>14</td>\n",
       "      <td>190</td>\n",
       "      <td>191</td>\n",
       "      <td>118</td>\n",
       "      <td>0.702381</td>\n",
       "      <td>0.608974</td>\n",
       "      <td>16.566667</td>\n",
       "    </tr>\n",
       "    <tr>\n",
       "      <th>1</th>\n",
       "      <td>1</td>\n",
       "      <td>.\\validrandommaze\\ran_12_120_155621.txt</td>\n",
       "      <td>12</td>\n",
       "      <td>120</td>\n",
       "      <td>312</td>\n",
       "      <td>168</td>\n",
       "      <td>13</td>\n",
       "      <td>0</td>\n",
       "      <td>1</td>\n",
       "      <td>33</td>\n",
       "      <td>84</td>\n",
       "      <td>123</td>\n",
       "      <td>224</td>\n",
       "      <td>132</td>\n",
       "      <td>0.785714</td>\n",
       "      <td>0.394231</td>\n",
       "      <td>85.100000</td>\n",
       "    </tr>\n",
       "    <tr>\n",
       "      <th>2</th>\n",
       "      <td>2</td>\n",
       "      <td>.\\validrandommaze\\ran_12_120_155621.txt</td>\n",
       "      <td>12</td>\n",
       "      <td>120</td>\n",
       "      <td>312</td>\n",
       "      <td>168</td>\n",
       "      <td>13</td>\n",
       "      <td>0</td>\n",
       "      <td>2</td>\n",
       "      <td>30</td>\n",
       "      <td>80</td>\n",
       "      <td>122</td>\n",
       "      <td>214</td>\n",
       "      <td>126</td>\n",
       "      <td>0.750000</td>\n",
       "      <td>0.391026</td>\n",
       "      <td>81.000000</td>\n",
       "    </tr>\n",
       "    <tr>\n",
       "      <th>3</th>\n",
       "      <td>3</td>\n",
       "      <td>.\\validrandommaze\\ran_12_120_155621.txt</td>\n",
       "      <td>12</td>\n",
       "      <td>120</td>\n",
       "      <td>312</td>\n",
       "      <td>168</td>\n",
       "      <td>13</td>\n",
       "      <td>0</td>\n",
       "      <td>3</td>\n",
       "      <td>31</td>\n",
       "      <td>84</td>\n",
       "      <td>122</td>\n",
       "      <td>224</td>\n",
       "      <td>132</td>\n",
       "      <td>0.785714</td>\n",
       "      <td>0.391026</td>\n",
       "      <td>85.033333</td>\n",
       "    </tr>\n",
       "    <tr>\n",
       "      <th>4</th>\n",
       "      <td>4</td>\n",
       "      <td>.\\validrandommaze\\ran_12_120_155621.txt</td>\n",
       "      <td>12</td>\n",
       "      <td>120</td>\n",
       "      <td>312</td>\n",
       "      <td>168</td>\n",
       "      <td>13</td>\n",
       "      <td>0</td>\n",
       "      <td>4</td>\n",
       "      <td>54</td>\n",
       "      <td>55</td>\n",
       "      <td>149</td>\n",
       "      <td>220</td>\n",
       "      <td>131</td>\n",
       "      <td>0.779762</td>\n",
       "      <td>0.477564</td>\n",
       "      <td>56.800000</td>\n",
       "    </tr>\n",
       "  </tbody>\n",
       "</table>\n",
       "</div>"
      ],
      "text/plain": [
       "   Unnamed: 0                                 MazeName  MazeSize  MazeAttempt  \\\n",
       "0           0  .\\validrandommaze\\ran_12_120_155621.txt        12          120   \n",
       "1           1  .\\validrandommaze\\ran_12_120_155621.txt        12          120   \n",
       "2           2  .\\validrandommaze\\ran_12_120_155621.txt        12          120   \n",
       "3           3  .\\validrandommaze\\ran_12_120_155621.txt        12          120   \n",
       "4           4  .\\validrandommaze\\ran_12_120_155621.txt        12          120   \n",
       "\n",
       "   MazeNPossibleWalls  MazeNWalls  MazeShortestPath  RobotExpMode  \\\n",
       "0                 312         168                13             0   \n",
       "1                 312         168                13             0   \n",
       "2                 312         168                13             0   \n",
       "3                 312         168                13             0   \n",
       "4                 312         168                13             0   \n",
       "\n",
       "   RobotIteration  RobotRun0Moves  RobotRun1Moves  RobotRun0Known  \\\n",
       "0               0              77              14             190   \n",
       "1               1              33              84             123   \n",
       "2               2              30              80             122   \n",
       "3               3              31              84             122   \n",
       "4               4              54              55             149   \n",
       "\n",
       "   RobotRun1Known  RobotKnownWalls  RobotPercWallsDisc  RobotPercMazeDiscRun0  \\\n",
       "0             191              118            0.702381               0.608974   \n",
       "1             224              132            0.785714               0.394231   \n",
       "2             214              126            0.750000               0.391026   \n",
       "3             224              132            0.785714               0.391026   \n",
       "4             220              131            0.779762               0.477564   \n",
       "\n",
       "   RobotScore  \n",
       "0   16.566667  \n",
       "1   85.100000  \n",
       "2   81.000000  \n",
       "3   85.033333  \n",
       "4   56.800000  "
      ]
     },
     "execution_count": 5,
     "metadata": {},
     "output_type": "execute_result"
    }
   ],
   "source": [
    "df.head()"
   ]
  },
  {
   "cell_type": "code",
   "execution_count": 6,
   "metadata": {},
   "outputs": [
    {
     "data": {
      "text/plain": [
       "Index(['Unnamed: 0', 'MazeName', 'MazeSize', 'MazeAttempt',\n",
       "       'MazeNPossibleWalls', 'MazeNWalls', 'MazeShortestPath', 'RobotExpMode',\n",
       "       'RobotIteration', 'RobotRun0Moves', 'RobotRun1Moves', 'RobotRun0Known',\n",
       "       'RobotRun1Known', 'RobotKnownWalls', 'RobotPercWallsDisc',\n",
       "       'RobotPercMazeDiscRun0', 'RobotScore'],\n",
       "      dtype='object')"
      ]
     },
     "execution_count": 6,
     "metadata": {},
     "output_type": "execute_result"
    }
   ],
   "source": [
    "df.columns"
   ]
  },
  {
   "cell_type": "code",
   "execution_count": 7,
   "metadata": {},
   "outputs": [
    {
     "data": {
      "text/plain": [
       "240"
      ]
     },
     "execution_count": 7,
     "metadata": {},
     "output_type": "execute_result"
    }
   ],
   "source": [
    "df['MazeName'].nunique() #Expected 240"
   ]
  },
  {
   "cell_type": "code",
   "execution_count": 8,
   "metadata": {},
   "outputs": [
    {
     "data": {
      "text/plain": [
       "8"
      ]
     },
     "execution_count": 8,
     "metadata": {},
     "output_type": "execute_result"
    }
   ],
   "source": [
    "df['RobotExpMode'].nunique() #Expected 8"
   ]
  },
  {
   "cell_type": "code",
   "execution_count": 9,
   "metadata": {},
   "outputs": [
    {
     "data": {
      "text/plain": [
       "19200"
      ]
     },
     "execution_count": 9,
     "metadata": {},
     "output_type": "execute_result"
    }
   ],
   "source": [
    "len(df.MazeName) #Expected 19200"
   ]
  },
  {
   "cell_type": "markdown",
   "metadata": {},
   "source": [
    "<b>Maze Analysis<b>"
   ]
  },
  {
   "cell_type": "markdown",
   "metadata": {},
   "source": [
    "Let's first have a look at the mazes we created; to this task, we isolate maze info in a dedicated dataset"
   ]
  },
  {
   "cell_type": "code",
   "execution_count": 10,
   "metadata": {},
   "outputs": [],
   "source": [
    "mazes=df[(df.RobotIteration==0) & (df.RobotExpMode==0) ][['MazeName', 'MazeSize', 'MazeAttempt',\n",
    "       'MazeNPossibleWalls', 'MazeNWalls', 'MazeShortestPath']]"
   ]
  },
  {
   "cell_type": "code",
   "execution_count": 11,
   "metadata": {},
   "outputs": [],
   "source": [
    "mazes['WallDensity']=mazes.MazeNWalls/mazes.MazeNPossibleWalls"
   ]
  },
  {
   "cell_type": "markdown",
   "metadata": {},
   "source": [
    "MazeAttempt parameter is the threshold used in the maze generation algorithm to give up in the attempt to add a wall. Once this threshold is reached the maze was considered completed. We used 4 different MazeAttempt values in the maze generation "
   ]
  },
  {
   "cell_type": "code",
   "execution_count": 12,
   "metadata": {},
   "outputs": [
    {
     "data": {
      "text/plain": [
       "[5, 20, 60, 120]"
      ]
     },
     "execution_count": 12,
     "metadata": {},
     "output_type": "execute_result"
    }
   ],
   "source": [
    "sorted(mazes.MazeAttempt.unique())"
   ]
  },
  {
   "cell_type": "markdown",
   "metadata": {},
   "source": [
    "We expect that the number of walls and in turn maze density increases for higher values of MazeAteempt. Let's see:"
   ]
  },
  {
   "cell_type": "code",
   "execution_count": 13,
   "metadata": {},
   "outputs": [
    {
     "data": {
      "text/plain": [
       "<matplotlib.axes._subplots.AxesSubplot at 0x1f7cbaee9b0>"
      ]
     },
     "execution_count": 13,
     "metadata": {},
     "output_type": "execute_result"
    },
    {
     "data": {
      "image/png": "[encoded data removed]",
      "text/plain": [
       "<Figure size 432x288 with 1 Axes>"
      ]
     },
     "metadata": {},
     "output_type": "display_data"
    }
   ],
   "source": [
    "sns.histplot(mazes[mazes.MazeSize==16],x='MazeNWalls',hue='MazeAttempt',palette=\"tab10\",multiple=\"stack\",bins=60)\n",
    "#sns.histplot(mazes[mazes.MazeSize==16],x='MazeNWalls',hue='MazeAttempt',palette=\"tab10\",element=\"poly\")"
   ]
  },
  {
   "cell_type": "markdown",
   "metadata": {},
   "source": [
    "We can also argue that an increased number of walls correspond to a longer shortest path.  "
   ]
  },
  {
   "cell_type": "code",
   "execution_count": 14,
   "metadata": {},
   "outputs": [
    {
     "data": {
      "text/plain": [
       "<matplotlib.axes._subplots.AxesSubplot at 0x1f7cbac4358>"
      ]
     },
     "execution_count": 14,
     "metadata": {},
     "output_type": "execute_result"
    },
    {
     "data": {
      "image/png": "[encoded data removed]",
      "text/plain": [
       "<Figure size 432x288 with 1 Axes>"
      ]
     },
     "metadata": {},
     "output_type": "display_data"
    }
   ],
   "source": [
    "sns.histplot(mazes[mazes.MazeSize==16],x='MazeShortestPath',hue='MazeAttempt',palette=\"tab10\",multiple=\"stack\",bins=40)\n",
    "#sns.histplot(mazes[mazes.MazeSize==16],x='MazeShortestPath',hue='MazeAttempt',palette=\"tab10\",element='poly')"
   ]
  },
  {
   "cell_type": "code",
   "execution_count": 15,
   "metadata": {},
   "outputs": [
    {
     "data": {
      "text/html": [
       "<div>\n",
       "<style scoped>\n",
       "    .dataframe tbody tr th:only-of-type {\n",
       "        vertical-align: middle;\n",
       "    }\n",
       "\n",
       "    .dataframe tbody tr th {\n",
       "        vertical-align: top;\n",
       "    }\n",
       "\n",
       "    .dataframe thead th {\n",
       "        text-align: right;\n",
       "    }\n",
       "</style>\n",
       "<table border=\"1\" class=\"dataframe\">\n",
       "  <thead>\n",
       "    <tr style=\"text-align: right;\">\n",
       "      <th></th>\n",
       "      <th></th>\n",
       "      <th>MazeNPossibleWalls</th>\n",
       "      <th>MazeNWalls</th>\n",
       "      <th>MazeShortestPath</th>\n",
       "      <th>WallDensity</th>\n",
       "    </tr>\n",
       "    <tr>\n",
       "      <th>MazeSize</th>\n",
       "      <th>MazeAttempt</th>\n",
       "      <th></th>\n",
       "      <th></th>\n",
       "      <th></th>\n",
       "      <th></th>\n",
       "    </tr>\n",
       "  </thead>\n",
       "  <tbody>\n",
       "    <tr>\n",
       "      <th rowspan=\"4\" valign=\"top\">12</th>\n",
       "      <th>5</th>\n",
       "      <td>312.0</td>\n",
       "      <td>135.25</td>\n",
       "      <td>9.55</td>\n",
       "      <td>0.433494</td>\n",
       "    </tr>\n",
       "    <tr>\n",
       "      <th>20</th>\n",
       "      <td>312.0</td>\n",
       "      <td>163.35</td>\n",
       "      <td>15.40</td>\n",
       "      <td>0.523558</td>\n",
       "    </tr>\n",
       "    <tr>\n",
       "      <th>60</th>\n",
       "      <td>312.0</td>\n",
       "      <td>167.10</td>\n",
       "      <td>14.05</td>\n",
       "      <td>0.535577</td>\n",
       "    </tr>\n",
       "    <tr>\n",
       "      <th>120</th>\n",
       "      <td>312.0</td>\n",
       "      <td>167.95</td>\n",
       "      <td>15.10</td>\n",
       "      <td>0.538301</td>\n",
       "    </tr>\n",
       "    <tr>\n",
       "      <th rowspan=\"4\" valign=\"top\">14</th>\n",
       "      <th>5</th>\n",
       "      <td>420.0</td>\n",
       "      <td>171.35</td>\n",
       "      <td>10.60</td>\n",
       "      <td>0.407976</td>\n",
       "    </tr>\n",
       "    <tr>\n",
       "      <th>20</th>\n",
       "      <td>420.0</td>\n",
       "      <td>216.30</td>\n",
       "      <td>12.75</td>\n",
       "      <td>0.515000</td>\n",
       "    </tr>\n",
       "    <tr>\n",
       "      <th>60</th>\n",
       "      <td>420.0</td>\n",
       "      <td>222.60</td>\n",
       "      <td>16.30</td>\n",
       "      <td>0.530000</td>\n",
       "    </tr>\n",
       "    <tr>\n",
       "      <th>120</th>\n",
       "      <td>420.0</td>\n",
       "      <td>223.60</td>\n",
       "      <td>16.25</td>\n",
       "      <td>0.532381</td>\n",
       "    </tr>\n",
       "    <tr>\n",
       "      <th rowspan=\"4\" valign=\"top\">16</th>\n",
       "      <th>5</th>\n",
       "      <td>544.0</td>\n",
       "      <td>223.45</td>\n",
       "      <td>9.65</td>\n",
       "      <td>0.410754</td>\n",
       "    </tr>\n",
       "    <tr>\n",
       "      <th>20</th>\n",
       "      <td>544.0</td>\n",
       "      <td>275.15</td>\n",
       "      <td>16.20</td>\n",
       "      <td>0.505790</td>\n",
       "    </tr>\n",
       "    <tr>\n",
       "      <th>60</th>\n",
       "      <td>544.0</td>\n",
       "      <td>285.70</td>\n",
       "      <td>20.70</td>\n",
       "      <td>0.525184</td>\n",
       "    </tr>\n",
       "    <tr>\n",
       "      <th>120</th>\n",
       "      <td>544.0</td>\n",
       "      <td>287.55</td>\n",
       "      <td>20.10</td>\n",
       "      <td>0.528585</td>\n",
       "    </tr>\n",
       "  </tbody>\n",
       "</table>\n",
       "</div>"
      ],
      "text/plain": [
       "                      MazeNPossibleWalls  MazeNWalls  MazeShortestPath  \\\n",
       "MazeSize MazeAttempt                                                     \n",
       "12       5                         312.0      135.25              9.55   \n",
       "         20                        312.0      163.35             15.40   \n",
       "         60                        312.0      167.10             14.05   \n",
       "         120                       312.0      167.95             15.10   \n",
       "14       5                         420.0      171.35             10.60   \n",
       "         20                        420.0      216.30             12.75   \n",
       "         60                        420.0      222.60             16.30   \n",
       "         120                       420.0      223.60             16.25   \n",
       "16       5                         544.0      223.45              9.65   \n",
       "         20                        544.0      275.15             16.20   \n",
       "         60                        544.0      285.70             20.70   \n",
       "         120                       544.0      287.55             20.10   \n",
       "\n",
       "                      WallDensity  \n",
       "MazeSize MazeAttempt               \n",
       "12       5               0.433494  \n",
       "         20              0.523558  \n",
       "         60              0.535577  \n",
       "         120             0.538301  \n",
       "14       5               0.407976  \n",
       "         20              0.515000  \n",
       "         60              0.530000  \n",
       "         120             0.532381  \n",
       "16       5               0.410754  \n",
       "         20              0.505790  \n",
       "         60              0.525184  \n",
       "         120             0.528585  "
      ]
     },
     "execution_count": 15,
     "metadata": {},
     "output_type": "execute_result"
    }
   ],
   "source": [
    "mazes.groupby([ 'MazeSize', 'MazeAttempt']).mean()"
   ]
  },
  {
   "cell_type": "markdown",
   "metadata": {},
   "source": [
    "<b> Finding best exploring path"
   ]
  },
  {
   "cell_type": "markdown",
   "metadata": {},
   "source": [
    "Now we address a different target, that is comparing performance of different exploring options defined for Run 0.\n",
    "Options are define below, where:\n",
    "'br'= bottom right\n",
    "'bl= bottom left\n",
    "'tr'= top right\n",
    "'tl'= top left\n",
    "'cc' = maze center box (4 cells)\n"
   ]
  },
  {
   "cell_type": "code",
   "execution_count": 16,
   "metadata": {},
   "outputs": [],
   "source": [
    "exploring_paths = {0:[],\n",
    "                   1:[['br','tl','tr']],\n",
    "                   2:[['bl']],\n",
    "                   3:[['br','tl','tr'],['bl']],\n",
    "                   4:[['tl'],['cc'],['tr'],['cc'],['br'],['cc']],\n",
    "                   5:[['bl'],['cc'],['bl'],['cc']],\n",
    "                   6:[['bl'],['cc'],['bl'],['cc'],['bl'],['cc']],\n",
    "                   7: [['tl'], ['tr'], ['br'], ['bl']]}"
   ]
  },
  {
   "cell_type": "code",
   "execution_count": 17,
   "metadata": {},
   "outputs": [
    {
     "data": {
      "text/plain": [
       "<matplotlib.axes._subplots.AxesSubplot at 0x1f7cbd8c550>"
      ]
     },
     "execution_count": 17,
     "metadata": {},
     "output_type": "execute_result"
    },
    {
     "data": {
      "image/png": "[encoded data removed]",
      "text/plain": [
       "<Figure size 432x288 with 1 Axes>"
      ]
     },
     "metadata": {},
     "output_type": "display_data"
    }
   ],
   "source": [
    "sns.histplot(df,x='RobotScore',hue='RobotExpMode',kde=True)"
   ]
  },
  {
   "cell_type": "code",
   "execution_count": 18,
   "metadata": {},
   "outputs": [
    {
     "data": {
      "image/png": "[encoded data removed]",
      "text/plain": [
       "<Figure size 432x288 with 1 Axes>"
      ]
     },
     "metadata": {},
     "output_type": "display_data"
    }
   ],
   "source": [
    "sns.kdeplot(data=df,x='RobotScore',hue='RobotExpMode',palette=\"tab10\",fill=False)\n",
    "plt.xlim(0, 80)\n",
    "plt.show()"
   ]
  },
  {
   "cell_type": "code",
   "execution_count": 19,
   "metadata": {},
   "outputs": [],
   "source": [
    "overall_mean=df.groupby('RobotExpMode').mean()['RobotScore']"
   ]
  },
  {
   "cell_type": "code",
   "execution_count": 20,
   "metadata": {},
   "outputs": [],
   "source": [
    "overall_mean.index=['0','1','2','3','4','5','6','7']"
   ]
  },
  {
   "cell_type": "code",
   "execution_count": 21,
   "metadata": {},
   "outputs": [],
   "source": [
    "overall_mean=overall_mean.sort_values(ascending=False)"
   ]
  },
  {
   "cell_type": "code",
   "execution_count": 22,
   "metadata": {},
   "outputs": [
    {
     "data": {
      "text/plain": [
       "Text(0.5,1,'Comparizon among exp model - All mazes')"
      ]
     },
     "execution_count": 22,
     "metadata": {},
     "output_type": "execute_result"
    },
    {
     "data": {
      "image/png": "[encoded data removed]",
      "text/plain": [
       "<Figure size 432x288 with 1 Axes>"
      ]
     },
     "metadata": {},
     "output_type": "display_data"
    }
   ],
   "source": [
    "plt.bar(overall_mean.index, overall_mean)\n",
    "plt.ylabel('Average run score')\n",
    "plt.xlabel('Run 0 exploration mode')\n",
    "plt.title('Comparizon among exp model - All mazes')"
   ]
  },
  {
   "cell_type": "markdown",
   "metadata": {},
   "source": [
    "The graphs above clearly show some better performance on exploration_path[5], that is requesting the robot to loop between bottom left and center 3 times before moving to run 1"
   ]
  },
  {
   "cell_type": "markdown",
   "metadata": {},
   "source": [
    "Now let's see if there is any dependency on maze size or maze complexity: "
   ]
  },
  {
   "cell_type": "code",
   "execution_count": 23,
   "metadata": {},
   "outputs": [],
   "source": [
    "mean_x_mazesize=df.groupby(['MazeSize','RobotExpMode']).mean()['RobotScore'].reset_index()"
   ]
  },
  {
   "cell_type": "code",
   "execution_count": 24,
   "metadata": {},
   "outputs": [
    {
     "data": {
      "text/html": [
       "<div>\n",
       "<style scoped>\n",
       "    .dataframe tbody tr th:only-of-type {\n",
       "        vertical-align: middle;\n",
       "    }\n",
       "\n",
       "    .dataframe tbody tr th {\n",
       "        vertical-align: top;\n",
       "    }\n",
       "\n",
       "    .dataframe thead th {\n",
       "        text-align: right;\n",
       "    }\n",
       "</style>\n",
       "<table border=\"1\" class=\"dataframe\">\n",
       "  <thead>\n",
       "    <tr style=\"text-align: right;\">\n",
       "      <th></th>\n",
       "      <th>MazeSize</th>\n",
       "      <th>RobotExpMode</th>\n",
       "      <th>RobotScore</th>\n",
       "    </tr>\n",
       "  </thead>\n",
       "  <tbody>\n",
       "    <tr>\n",
       "      <th>0</th>\n",
       "      <td>12</td>\n",
       "      <td>0</td>\n",
       "      <td>33.702125</td>\n",
       "    </tr>\n",
       "    <tr>\n",
       "      <th>1</th>\n",
       "      <td>12</td>\n",
       "      <td>1</td>\n",
       "      <td>23.032875</td>\n",
       "    </tr>\n",
       "    <tr>\n",
       "      <th>2</th>\n",
       "      <td>12</td>\n",
       "      <td>2</td>\n",
       "      <td>20.685000</td>\n",
       "    </tr>\n",
       "    <tr>\n",
       "      <th>3</th>\n",
       "      <td>12</td>\n",
       "      <td>3</td>\n",
       "      <td>19.911875</td>\n",
       "    </tr>\n",
       "    <tr>\n",
       "      <th>4</th>\n",
       "      <td>12</td>\n",
       "      <td>4</td>\n",
       "      <td>20.509000</td>\n",
       "    </tr>\n",
       "  </tbody>\n",
       "</table>\n",
       "</div>"
      ],
      "text/plain": [
       "   MazeSize  RobotExpMode  RobotScore\n",
       "0        12             0   33.702125\n",
       "1        12             1   23.032875\n",
       "2        12             2   20.685000\n",
       "3        12             3   19.911875\n",
       "4        12             4   20.509000"
      ]
     },
     "execution_count": 24,
     "metadata": {},
     "output_type": "execute_result"
    }
   ],
   "source": [
    "mean_x_mazesize.head(5)"
   ]
  },
  {
   "cell_type": "code",
   "execution_count": 25,
   "metadata": {},
   "outputs": [
    {
     "data": {
      "text/plain": [
       "<matplotlib.axes._subplots.AxesSubplot at 0x1f7ccce81d0>"
      ]
     },
     "execution_count": 25,
     "metadata": {},
     "output_type": "execute_result"
    },
    {
     "data": {
      "image/png": "[encoded data removed]",
      "text/plain": [
       "<Figure size 432x288 with 1 Axes>"
      ]
     },
     "metadata": {},
     "output_type": "display_data"
    }
   ],
   "source": [
    "sns.barplot( data=mean_x_mazesize, x='RobotExpMode', y='RobotScore',hue='MazeSize',palette=\"crest\")"
   ]
  },
  {
   "cell_type": "code",
   "execution_count": 26,
   "metadata": {},
   "outputs": [],
   "source": [
    "#function minimum_path(n) return the minimum number of moves from a corner to the center on an empty maze of size nxn boxes, \n",
    "#given that each  move can be up to 'max_step' boxes \n",
    "max_step=3\n",
    "def minimum_path(n):   \n",
    "    m=int(np.ceil((n/2-1)/max_step)*2)\n",
    "    return(m)\n"
   ]
  },
  {
   "cell_type": "markdown",
   "metadata": {},
   "source": [
    "Let's define maze complexity as the ratio between the shortest path on the maze and the shortest path of an empty maze with same size"
   ]
  },
  {
   "cell_type": "code",
   "execution_count": 27,
   "metadata": {},
   "outputs": [],
   "source": [
    "df['MazeComplexity']=df.MazeShortestPath/(df.MazeSize.apply(minimum_path))"
   ]
  },
  {
   "cell_type": "code",
   "execution_count": 28,
   "metadata": {},
   "outputs": [
    {
     "name": "stdout",
     "output_type": "stream",
     "text": [
      "1.0 3.217361111111101 9.75\n"
     ]
    }
   ],
   "source": [
    "print(df.MazeComplexity.min(), df.MazeComplexity.mean(),df.MazeComplexity.max())"
   ]
  },
  {
   "cell_type": "code",
   "execution_count": 29,
   "metadata": {},
   "outputs": [
    {
     "data": {
      "text/plain": [
       "<matplotlib.axes._subplots.AxesSubplot at 0x1f7ccddf320>"
      ]
     },
     "execution_count": 29,
     "metadata": {},
     "output_type": "execute_result"
    },
    {
     "data": {
      "image/png": "[encoded data removed]",
      "text/plain": [
       "<Figure size 432x288 with 1 Axes>"
      ]
     },
     "metadata": {},
     "output_type": "display_data"
    }
   ],
   "source": [
    "sns.histplot(df,x='MazeComplexity')"
   ]
  },
  {
   "cell_type": "code",
   "execution_count": 30,
   "metadata": {},
   "outputs": [],
   "source": [
    "#we define threshold for low, medium and high complexity, trying to have three similarly sized set\n",
    "df['MazeComplexityLab']='Low'\n",
    "df.loc[(df.MazeComplexity>2.),'MazeComplexityLab']='Medium'\n",
    "df.loc[(df.MazeComplexity>3.5),'MazeComplexityLab']='High'"
   ]
  },
  {
   "cell_type": "code",
   "execution_count": 31,
   "metadata": {},
   "outputs": [
    {
     "data": {
      "text/plain": [
       "<matplotlib.axes._subplots.AxesSubplot at 0x1f7cd156b70>"
      ]
     },
     "execution_count": 31,
     "metadata": {},
     "output_type": "execute_result"
    },
    {
     "data": {
      "image/png": "[encoded data removed]",
      "text/plain": [
       "<Figure size 432x288 with 1 Axes>"
      ]
     },
     "metadata": {},
     "output_type": "display_data"
    }
   ],
   "source": [
    "sns.histplot(df,x='MazeComplexity',hue='MazeComplexityLab', hue_order=['Low','Medium','High'], palette=\"tab10\")"
   ]
  },
  {
   "cell_type": "code",
   "execution_count": 32,
   "metadata": {},
   "outputs": [
    {
     "data": {
      "text/plain": [
       "<seaborn.axisgrid.FacetGrid at 0x1f7cd2c6dd8>"
      ]
     },
     "execution_count": 32,
     "metadata": {},
     "output_type": "execute_result"
    },
    {
     "data": {
      "image/png": "[encoded data removed]",
      "text/plain": [
       "<Figure size 360x360 with 1 Axes>"
      ]
     },
     "metadata": {},
     "output_type": "display_data"
    }
   ],
   "source": [
    "sns.catplot(data=df[(df.RobotIteration==0) & (df.RobotExpMode==0)], kind=\"count\",x='MazeComplexityLab', order=['Low','Medium','High'],palette=\"tab10\")"
   ]
  },
  {
   "cell_type": "code",
   "execution_count": 33,
   "metadata": {},
   "outputs": [],
   "source": [
    "mean_x_mazecomplexity=df.groupby(['MazeComplexityLab','RobotExpMode']).mean()['RobotScore'].reset_index()"
   ]
  },
  {
   "cell_type": "code",
   "execution_count": 34,
   "metadata": {},
   "outputs": [
    {
     "data": {
      "text/html": [
       "<div>\n",
       "<style scoped>\n",
       "    .dataframe tbody tr th:only-of-type {\n",
       "        vertical-align: middle;\n",
       "    }\n",
       "\n",
       "    .dataframe tbody tr th {\n",
       "        vertical-align: top;\n",
       "    }\n",
       "\n",
       "    .dataframe thead th {\n",
       "        text-align: right;\n",
       "    }\n",
       "</style>\n",
       "<table border=\"1\" class=\"dataframe\">\n",
       "  <thead>\n",
       "    <tr style=\"text-align: right;\">\n",
       "      <th></th>\n",
       "      <th>MazeComplexityLab</th>\n",
       "      <th>RobotExpMode</th>\n",
       "      <th>RobotScore</th>\n",
       "    </tr>\n",
       "  </thead>\n",
       "  <tbody>\n",
       "    <tr>\n",
       "      <th>0</th>\n",
       "      <td>High</td>\n",
       "      <td>0</td>\n",
       "      <td>53.664178</td>\n",
       "    </tr>\n",
       "    <tr>\n",
       "      <th>1</th>\n",
       "      <td>High</td>\n",
       "      <td>1</td>\n",
       "      <td>43.408920</td>\n",
       "    </tr>\n",
       "    <tr>\n",
       "      <th>2</th>\n",
       "      <td>High</td>\n",
       "      <td>2</td>\n",
       "      <td>33.116150</td>\n",
       "    </tr>\n",
       "    <tr>\n",
       "      <th>3</th>\n",
       "      <td>High</td>\n",
       "      <td>3</td>\n",
       "      <td>32.313803</td>\n",
       "    </tr>\n",
       "    <tr>\n",
       "      <th>4</th>\n",
       "      <td>High</td>\n",
       "      <td>4</td>\n",
       "      <td>35.963568</td>\n",
       "    </tr>\n",
       "  </tbody>\n",
       "</table>\n",
       "</div>"
      ],
      "text/plain": [
       "  MazeComplexityLab  RobotExpMode  RobotScore\n",
       "0              High             0   53.664178\n",
       "1              High             1   43.408920\n",
       "2              High             2   33.116150\n",
       "3              High             3   32.313803\n",
       "4              High             4   35.963568"
      ]
     },
     "execution_count": 34,
     "metadata": {},
     "output_type": "execute_result"
    }
   ],
   "source": [
    "mean_x_mazecomplexity.head(5)"
   ]
  },
  {
   "cell_type": "code",
   "execution_count": 35,
   "metadata": {},
   "outputs": [
    {
     "data": {
      "text/plain": [
       "<matplotlib.axes._subplots.AxesSubplot at 0x1f7cd3de400>"
      ]
     },
     "execution_count": 35,
     "metadata": {},
     "output_type": "execute_result"
    },
    {
     "data": {
      "image/png": "[encoded data removed]",
      "text/plain": [
       "<Figure size 432x288 with 1 Axes>"
      ]
     },
     "metadata": {},
     "output_type": "display_data"
    }
   ],
   "source": [
    "sns.barplot( data=mean_x_mazecomplexity, x='RobotExpMode', y='RobotScore',hue='MazeComplexityLab',palette=\"crest\",hue_order=['Low','Medium','High'])"
   ]
  },
  {
   "cell_type": "markdown",
   "metadata": {},
   "source": [
    "<b>Mode 5 appears to be the best choice!"
   ]
  },
  {
   "cell_type": "markdown",
   "metadata": {},
   "source": [
    "Results obtianed on exploration mode 5 are better than in other modes, regardless of maze size and on the introduced measure of maze complexity "
   ]
  },
  {
   "cell_type": "markdown",
   "metadata": {},
   "source": [
    "Let's concentrate now on results obtained in mode 5:"
   ]
  },
  {
   "cell_type": "code",
   "execution_count": 36,
   "metadata": {},
   "outputs": [],
   "source": [
    "df5=df[df.RobotExpMode==5]"
   ]
  },
  {
   "cell_type": "code",
   "execution_count": 37,
   "metadata": {},
   "outputs": [
    {
     "data": {
      "text/plain": [
       "2400"
      ]
     },
     "execution_count": 37,
     "metadata": {},
     "output_type": "execute_result"
    }
   ],
   "source": [
    "df5.RobotIteration.count() #240 x 10 = 2400 rows expected"
   ]
  },
  {
   "cell_type": "markdown",
   "metadata": {},
   "source": [
    "<b> What makes a  maze 'complex' for the robot? <b>"
   ]
  },
  {
   "cell_type": "markdown",
   "metadata": {},
   "source": [
    "The set of mazes used in this analysis was randomly generated, with a few the constraints:\n",
    "- n x n size, with N= 12,14 or 16\n",
    "- closed perimetral wall\n",
    "- center box composed of 4 squares, with only one exit\n",
    "- bottom left box with only exit in the 'up' direction\n",
    "\n",
    "In order to explore the complexity of different mazes for our algorithm, we measure:\n",
    "\n",
    "- 'Run1Effectiveness': the ratio between the average algorithm performance (in run 1) and the number of moves needed on the shortest path (between bottom left to center) on the same maze,  and\n",
    "\n",
    "- 'ScoreEffectiveness': the ratio between the final score obtained and the number of moves needed on the shortest path \n"
   ]
  },
  {
   "cell_type": "code",
   "execution_count": 38,
   "metadata": {},
   "outputs": [
    {
     "name": "stdout",
     "output_type": "stream",
     "text": [
      "Number of Run where run1 was on shortest path: 2310\n",
      "Number of Run1 on longer path: 90\n"
     ]
    }
   ],
   "source": [
    "OnShortPath=df5[df5.MazeShortestPath==df5.RobotRun1Moves].RobotIteration.count()\n",
    "print('Number of Run where run1 was on shortest path: {}'.format(OnShortPath)) \n",
    "print('Number of Run1 on longer path: {}'.format(df5.RobotIteration.count()-OnShortPath)) "
   ]
  },
  {
   "cell_type": "code",
   "execution_count": 39,
   "metadata": {},
   "outputs": [
    {
     "name": "stderr",
     "output_type": "stream",
     "text": [
      "C:\\ProgramData\\Anaconda3\\lib\\site-packages\\ipykernel_launcher.py:1: SettingWithCopyWarning: \n",
      "A value is trying to be set on a copy of a slice from a DataFrame.\n",
      "Try using .loc[row_indexer,col_indexer] = value instead\n",
      "\n",
      "See the caveats in the documentation: http://pandas.pydata.org/pandas-docs/stable/indexing.html#indexing-view-versus-copy\n",
      "  \"\"\"Entry point for launching an IPython kernel.\n",
      "C:\\ProgramData\\Anaconda3\\lib\\site-packages\\ipykernel_launcher.py:2: SettingWithCopyWarning: \n",
      "A value is trying to be set on a copy of a slice from a DataFrame.\n",
      "Try using .loc[row_indexer,col_indexer] = value instead\n",
      "\n",
      "See the caveats in the documentation: http://pandas.pydata.org/pandas-docs/stable/indexing.html#indexing-view-versus-copy\n",
      "  \n"
     ]
    }
   ],
   "source": [
    "df5['Run1Effectiveness']=df5.RobotRun1Moves/df5.MazeShortestPath\n",
    "df5['ScoreEffectiveness']=df5.RobotScore/df5.MazeShortestPath"
   ]
  },
  {
   "cell_type": "markdown",
   "metadata": {},
   "source": [
    "Start search for difficult mazes, using Run1Effectiveness as an indicator"
   ]
  },
  {
   "cell_type": "code",
   "execution_count": 40,
   "metadata": {},
   "outputs": [
    {
     "data": {
      "text/plain": [
       "<matplotlib.axes._subplots.AxesSubplot at 0x1f7ce3e2588>"
      ]
     },
     "execution_count": 40,
     "metadata": {},
     "output_type": "execute_result"
    },
    {
     "data": {
      "image/png": "[encoded data removed]",
      "text/plain": [
       "<Figure size 432x288 with 1 Axes>"
      ]
     },
     "metadata": {},
     "output_type": "display_data"
    }
   ],
   "source": [
    "df5means=df5.groupby('MazeName').mean().reset_index()\n",
    "sns.histplot(df5means.Run1Effectiveness)"
   ]
  },
  {
   "cell_type": "markdown",
   "metadata": {},
   "source": [
    "Let's limit the search to those attempts where run1 didn't manage to find the shortest path:"
   ]
  },
  {
   "cell_type": "code",
   "execution_count": 41,
   "metadata": {},
   "outputs": [
    {
     "data": {
      "text/plain": [
       "45"
      ]
     },
     "execution_count": 41,
     "metadata": {},
     "output_type": "execute_result"
    }
   ],
   "source": [
    "df5means[df5means.Run1Effectiveness>1.0].MazeName.count()"
   ]
  },
  {
   "cell_type": "code",
   "execution_count": 42,
   "metadata": {},
   "outputs": [
    {
     "data": {
      "text/plain": [
       "<matplotlib.axes._subplots.AxesSubplot at 0x1f7ce40a780>"
      ]
     },
     "execution_count": 42,
     "metadata": {},
     "output_type": "execute_result"
    },
    {
     "data": {
      "image/png": "[encoded data removed]",
      "text/plain": [
       "<Figure size 432x288 with 1 Axes>"
      ]
     },
     "metadata": {},
     "output_type": "display_data"
    }
   ],
   "source": [
    "sns.histplot(df5means[df5means.Run1Effectiveness >1].Run1Effectiveness)"
   ]
  },
  {
   "cell_type": "markdown",
   "metadata": {},
   "source": [
    "We have 6 mazes with worst average performance. Let's find names:"
   ]
  },
  {
   "cell_type": "code",
   "execution_count": 43,
   "metadata": {},
   "outputs": [
    {
     "data": {
      "text/html": [
       "<div>\n",
       "<style scoped>\n",
       "    .dataframe tbody tr th:only-of-type {\n",
       "        vertical-align: middle;\n",
       "    }\n",
       "\n",
       "    .dataframe tbody tr th {\n",
       "        vertical-align: top;\n",
       "    }\n",
       "\n",
       "    .dataframe thead th {\n",
       "        text-align: right;\n",
       "    }\n",
       "</style>\n",
       "<table border=\"1\" class=\"dataframe\">\n",
       "  <thead>\n",
       "    <tr style=\"text-align: right;\">\n",
       "      <th></th>\n",
       "      <th>MazeName</th>\n",
       "      <th>Run1Effectiveness</th>\n",
       "    </tr>\n",
       "  </thead>\n",
       "  <tbody>\n",
       "    <tr>\n",
       "      <th>138</th>\n",
       "      <td>.\\validrandommaze\\ran_14_5_177437.txt</td>\n",
       "      <td>1.933333</td>\n",
       "    </tr>\n",
       "    <tr>\n",
       "      <th>8</th>\n",
       "      <td>.\\validrandommaze\\ran_12_120_157616.txt</td>\n",
       "      <td>1.750000</td>\n",
       "    </tr>\n",
       "    <tr>\n",
       "      <th>136</th>\n",
       "      <td>.\\validrandommaze\\ran_14_5_176343.txt</td>\n",
       "      <td>1.583333</td>\n",
       "    </tr>\n",
       "    <tr>\n",
       "      <th>218</th>\n",
       "      <td>.\\validrandommaze\\ran_16_5_177757.txt</td>\n",
       "      <td>1.450000</td>\n",
       "    </tr>\n",
       "    <tr>\n",
       "      <th>202</th>\n",
       "      <td>.\\validrandommaze\\ran_16_5_157637.txt</td>\n",
       "      <td>1.255556</td>\n",
       "    </tr>\n",
       "    <tr>\n",
       "      <th>65</th>\n",
       "      <td>.\\validrandommaze\\ran_12_60_161577.txt</td>\n",
       "      <td>1.210000</td>\n",
       "    </tr>\n",
       "  </tbody>\n",
       "</table>\n",
       "</div>"
      ],
      "text/plain": [
       "                                    MazeName  Run1Effectiveness\n",
       "138    .\\validrandommaze\\ran_14_5_177437.txt           1.933333\n",
       "8    .\\validrandommaze\\ran_12_120_157616.txt           1.750000\n",
       "136    .\\validrandommaze\\ran_14_5_176343.txt           1.583333\n",
       "218    .\\validrandommaze\\ran_16_5_177757.txt           1.450000\n",
       "202    .\\validrandommaze\\ran_16_5_157637.txt           1.255556\n",
       "65    .\\validrandommaze\\ran_12_60_161577.txt           1.210000"
      ]
     },
     "execution_count": 43,
     "metadata": {},
     "output_type": "execute_result"
    }
   ],
   "source": [
    "difficult_mazes=df5means[df5means.Run1Effectiveness>1.15].MazeName.unique()\n",
    "df5means[df5means.MazeName.isin(difficult_mazes)][['MazeName','Run1Effectiveness']].sort_values(['Run1Effectiveness'],ascending=False)"
   ]
  },
  {
   "cell_type": "markdown",
   "metadata": {},
   "source": [
    "Now, lets's see if looking at score effectiveness we find anything different (remember that score effectiveness is based on score, so it also counts number of moves on run 0"
   ]
  },
  {
   "cell_type": "code",
   "execution_count": 44,
   "metadata": {},
   "outputs": [
    {
     "data": {
      "text/plain": [
       "<matplotlib.axes._subplots.AxesSubplot at 0x1f7ce4d0438>"
      ]
     },
     "execution_count": 44,
     "metadata": {},
     "output_type": "execute_result"
    },
    {
     "data": {
      "image/png": "[encoded data removed]",
      "text/plain": [
       "<Figure size 432x288 with 1 Axes>"
      ]
     },
     "metadata": {},
     "output_type": "display_data"
    }
   ],
   "source": [
    "sns.histplot(df5means.ScoreEffectiveness)"
   ]
  },
  {
   "cell_type": "markdown",
   "metadata": {},
   "source": [
    "search for difficult mazes is repeated, now using ScoreEffectiveness as an indicator"
   ]
  },
  {
   "cell_type": "code",
   "execution_count": 45,
   "metadata": {},
   "outputs": [
    {
     "data": {
      "text/html": [
       "<div>\n",
       "<style scoped>\n",
       "    .dataframe tbody tr th:only-of-type {\n",
       "        vertical-align: middle;\n",
       "    }\n",
       "\n",
       "    .dataframe tbody tr th {\n",
       "        vertical-align: top;\n",
       "    }\n",
       "\n",
       "    .dataframe thead th {\n",
       "        text-align: right;\n",
       "    }\n",
       "</style>\n",
       "<table border=\"1\" class=\"dataframe\">\n",
       "  <thead>\n",
       "    <tr style=\"text-align: right;\">\n",
       "      <th></th>\n",
       "      <th>MazeName</th>\n",
       "      <th>ScoreEffectiveness</th>\n",
       "    </tr>\n",
       "  </thead>\n",
       "  <tbody>\n",
       "    <tr>\n",
       "      <th>138</th>\n",
       "      <td>.\\validrandommaze\\ran_14_5_177437.txt</td>\n",
       "      <td>2.201111</td>\n",
       "    </tr>\n",
       "    <tr>\n",
       "      <th>8</th>\n",
       "      <td>.\\validrandommaze\\ran_12_120_157616.txt</td>\n",
       "      <td>2.118611</td>\n",
       "    </tr>\n",
       "    <tr>\n",
       "      <th>136</th>\n",
       "      <td>.\\validrandommaze\\ran_14_5_176343.txt</td>\n",
       "      <td>1.805556</td>\n",
       "    </tr>\n",
       "    <tr>\n",
       "      <th>99</th>\n",
       "      <td>.\\validrandommaze\\ran_14_120_176375.txt</td>\n",
       "      <td>1.752083</td>\n",
       "    </tr>\n",
       "    <tr>\n",
       "      <th>173</th>\n",
       "      <td>.\\validrandommaze\\ran_16_120_162374.txt</td>\n",
       "      <td>1.713077</td>\n",
       "    </tr>\n",
       "    <tr>\n",
       "      <th>218</th>\n",
       "      <td>.\\validrandommaze\\ran_16_5_177757.txt</td>\n",
       "      <td>1.681667</td>\n",
       "    </tr>\n",
       "    <tr>\n",
       "      <th>65</th>\n",
       "      <td>.\\validrandommaze\\ran_12_60_161577.txt</td>\n",
       "      <td>1.633333</td>\n",
       "    </tr>\n",
       "    <tr>\n",
       "      <th>233</th>\n",
       "      <td>.\\validrandommaze\\ran_16_60_162361.txt</td>\n",
       "      <td>1.619286</td>\n",
       "    </tr>\n",
       "  </tbody>\n",
       "</table>\n",
       "</div>"
      ],
      "text/plain": [
       "                                    MazeName  ScoreEffectiveness\n",
       "138    .\\validrandommaze\\ran_14_5_177437.txt            2.201111\n",
       "8    .\\validrandommaze\\ran_12_120_157616.txt            2.118611\n",
       "136    .\\validrandommaze\\ran_14_5_176343.txt            1.805556\n",
       "99   .\\validrandommaze\\ran_14_120_176375.txt            1.752083\n",
       "173  .\\validrandommaze\\ran_16_120_162374.txt            1.713077\n",
       "218    .\\validrandommaze\\ran_16_5_177757.txt            1.681667\n",
       "65    .\\validrandommaze\\ran_12_60_161577.txt            1.633333\n",
       "233   .\\validrandommaze\\ran_16_60_162361.txt            1.619286"
      ]
     },
     "execution_count": 45,
     "metadata": {},
     "output_type": "execute_result"
    }
   ],
   "source": [
    "difficult_mazes_score=df5means[df5means.ScoreEffectiveness>1.6].MazeName.unique()\n",
    "df5means[df5means.MazeName.isin(difficult_mazes_score)][['MazeName','ScoreEffectiveness']].sort_values(['ScoreEffectiveness'],ascending=False)"
   ]
  },
  {
   "cell_type": "markdown",
   "metadata": {},
   "source": [
    "Worst three mazes are the same for score and run1 effectiveness and Worst case maze is 'ran_14_5_177437.txt'.\n",
    "\n",
    "This maze is selected for indeep analysis in the project write up. Its performance are saved in a csv file"
   ]
  },
  {
   "cell_type": "code",
   "execution_count": 46,
   "metadata": {
    "scrolled": true
   },
   "outputs": [
    {
     "data": {
      "text/html": [
       "<div>\n",
       "<style scoped>\n",
       "    .dataframe tbody tr th:only-of-type {\n",
       "        vertical-align: middle;\n",
       "    }\n",
       "\n",
       "    .dataframe tbody tr th {\n",
       "        vertical-align: top;\n",
       "    }\n",
       "\n",
       "    .dataframe thead th {\n",
       "        text-align: right;\n",
       "    }\n",
       "</style>\n",
       "<table border=\"1\" class=\"dataframe\">\n",
       "  <thead>\n",
       "    <tr style=\"text-align: right;\">\n",
       "      <th></th>\n",
       "      <th>Unnamed: 0</th>\n",
       "      <th>MazeName</th>\n",
       "      <th>MazeSize</th>\n",
       "      <th>MazeAttempt</th>\n",
       "      <th>MazeNPossibleWalls</th>\n",
       "      <th>MazeNWalls</th>\n",
       "      <th>MazeShortestPath</th>\n",
       "      <th>RobotExpMode</th>\n",
       "      <th>RobotIteration</th>\n",
       "      <th>RobotRun0Moves</th>\n",
       "      <th>...</th>\n",
       "      <th>RobotRun0Known</th>\n",
       "      <th>RobotRun1Known</th>\n",
       "      <th>RobotKnownWalls</th>\n",
       "      <th>RobotPercWallsDisc</th>\n",
       "      <th>RobotPercMazeDiscRun0</th>\n",
       "      <th>RobotScore</th>\n",
       "      <th>MazeComplexity</th>\n",
       "      <th>MazeComplexityLab</th>\n",
       "      <th>Run1Effectiveness</th>\n",
       "      <th>ScoreEffectiveness</th>\n",
       "    </tr>\n",
       "  </thead>\n",
       "  <tbody>\n",
       "    <tr>\n",
       "      <th>11090</th>\n",
       "      <td>11090</td>\n",
       "      <td>.\\validrandommaze\\ran_14_5_177437.txt</td>\n",
       "      <td>14</td>\n",
       "      <td>5</td>\n",
       "      <td>420</td>\n",
       "      <td>173</td>\n",
       "      <td>6</td>\n",
       "      <td>5</td>\n",
       "      <td>0</td>\n",
       "      <td>47</td>\n",
       "      <td>...</td>\n",
       "      <td>145</td>\n",
       "      <td>145</td>\n",
       "      <td>87</td>\n",
       "      <td>0.502890</td>\n",
       "      <td>0.345238</td>\n",
       "      <td>7.566667</td>\n",
       "      <td>1.5</td>\n",
       "      <td>Low</td>\n",
       "      <td>1.000000</td>\n",
       "      <td>1.261111</td>\n",
       "    </tr>\n",
       "    <tr>\n",
       "      <th>11091</th>\n",
       "      <td>11091</td>\n",
       "      <td>.\\validrandommaze\\ran_14_5_177437.txt</td>\n",
       "      <td>14</td>\n",
       "      <td>5</td>\n",
       "      <td>420</td>\n",
       "      <td>173</td>\n",
       "      <td>6</td>\n",
       "      <td>5</td>\n",
       "      <td>1</td>\n",
       "      <td>67</td>\n",
       "      <td>...</td>\n",
       "      <td>220</td>\n",
       "      <td>225</td>\n",
       "      <td>113</td>\n",
       "      <td>0.653179</td>\n",
       "      <td>0.523810</td>\n",
       "      <td>8.233333</td>\n",
       "      <td>1.5</td>\n",
       "      <td>Low</td>\n",
       "      <td>1.000000</td>\n",
       "      <td>1.372222</td>\n",
       "    </tr>\n",
       "    <tr>\n",
       "      <th>11092</th>\n",
       "      <td>11092</td>\n",
       "      <td>.\\validrandommaze\\ran_14_5_177437.txt</td>\n",
       "      <td>14</td>\n",
       "      <td>5</td>\n",
       "      <td>420</td>\n",
       "      <td>173</td>\n",
       "      <td>6</td>\n",
       "      <td>5</td>\n",
       "      <td>2</td>\n",
       "      <td>62</td>\n",
       "      <td>...</td>\n",
       "      <td>194</td>\n",
       "      <td>199</td>\n",
       "      <td>107</td>\n",
       "      <td>0.618497</td>\n",
       "      <td>0.461905</td>\n",
       "      <td>8.066667</td>\n",
       "      <td>1.5</td>\n",
       "      <td>Low</td>\n",
       "      <td>1.000000</td>\n",
       "      <td>1.344444</td>\n",
       "    </tr>\n",
       "    <tr>\n",
       "      <th>11093</th>\n",
       "      <td>11093</td>\n",
       "      <td>.\\validrandommaze\\ran_14_5_177437.txt</td>\n",
       "      <td>14</td>\n",
       "      <td>5</td>\n",
       "      <td>420</td>\n",
       "      <td>173</td>\n",
       "      <td>6</td>\n",
       "      <td>5</td>\n",
       "      <td>3</td>\n",
       "      <td>47</td>\n",
       "      <td>...</td>\n",
       "      <td>145</td>\n",
       "      <td>145</td>\n",
       "      <td>87</td>\n",
       "      <td>0.502890</td>\n",
       "      <td>0.345238</td>\n",
       "      <td>7.566667</td>\n",
       "      <td>1.5</td>\n",
       "      <td>Low</td>\n",
       "      <td>1.000000</td>\n",
       "      <td>1.261111</td>\n",
       "    </tr>\n",
       "    <tr>\n",
       "      <th>11094</th>\n",
       "      <td>11094</td>\n",
       "      <td>.\\validrandommaze\\ran_14_5_177437.txt</td>\n",
       "      <td>14</td>\n",
       "      <td>5</td>\n",
       "      <td>420</td>\n",
       "      <td>173</td>\n",
       "      <td>6</td>\n",
       "      <td>5</td>\n",
       "      <td>4</td>\n",
       "      <td>39</td>\n",
       "      <td>...</td>\n",
       "      <td>107</td>\n",
       "      <td>138</td>\n",
       "      <td>87</td>\n",
       "      <td>0.502890</td>\n",
       "      <td>0.254762</td>\n",
       "      <td>15.300000</td>\n",
       "      <td>1.5</td>\n",
       "      <td>Low</td>\n",
       "      <td>2.333333</td>\n",
       "      <td>2.550000</td>\n",
       "    </tr>\n",
       "    <tr>\n",
       "      <th>11095</th>\n",
       "      <td>11095</td>\n",
       "      <td>.\\validrandommaze\\ran_14_5_177437.txt</td>\n",
       "      <td>14</td>\n",
       "      <td>5</td>\n",
       "      <td>420</td>\n",
       "      <td>173</td>\n",
       "      <td>6</td>\n",
       "      <td>5</td>\n",
       "      <td>5</td>\n",
       "      <td>39</td>\n",
       "      <td>...</td>\n",
       "      <td>116</td>\n",
       "      <td>202</td>\n",
       "      <td>109</td>\n",
       "      <td>0.630058</td>\n",
       "      <td>0.276190</td>\n",
       "      <td>31.300000</td>\n",
       "      <td>1.5</td>\n",
       "      <td>Low</td>\n",
       "      <td>5.000000</td>\n",
       "      <td>5.216667</td>\n",
       "    </tr>\n",
       "    <tr>\n",
       "      <th>11096</th>\n",
       "      <td>11096</td>\n",
       "      <td>.\\validrandommaze\\ran_14_5_177437.txt</td>\n",
       "      <td>14</td>\n",
       "      <td>5</td>\n",
       "      <td>420</td>\n",
       "      <td>173</td>\n",
       "      <td>6</td>\n",
       "      <td>5</td>\n",
       "      <td>6</td>\n",
       "      <td>39</td>\n",
       "      <td>...</td>\n",
       "      <td>107</td>\n",
       "      <td>138</td>\n",
       "      <td>87</td>\n",
       "      <td>0.502890</td>\n",
       "      <td>0.254762</td>\n",
       "      <td>15.300000</td>\n",
       "      <td>1.5</td>\n",
       "      <td>Low</td>\n",
       "      <td>2.333333</td>\n",
       "      <td>2.550000</td>\n",
       "    </tr>\n",
       "    <tr>\n",
       "      <th>11097</th>\n",
       "      <td>11097</td>\n",
       "      <td>.\\validrandommaze\\ran_14_5_177437.txt</td>\n",
       "      <td>14</td>\n",
       "      <td>5</td>\n",
       "      <td>420</td>\n",
       "      <td>173</td>\n",
       "      <td>6</td>\n",
       "      <td>5</td>\n",
       "      <td>7</td>\n",
       "      <td>38</td>\n",
       "      <td>...</td>\n",
       "      <td>114</td>\n",
       "      <td>139</td>\n",
       "      <td>85</td>\n",
       "      <td>0.491329</td>\n",
       "      <td>0.271429</td>\n",
       "      <td>15.266667</td>\n",
       "      <td>1.5</td>\n",
       "      <td>Low</td>\n",
       "      <td>2.333333</td>\n",
       "      <td>2.544444</td>\n",
       "    </tr>\n",
       "    <tr>\n",
       "      <th>11098</th>\n",
       "      <td>11098</td>\n",
       "      <td>.\\validrandommaze\\ran_14_5_177437.txt</td>\n",
       "      <td>14</td>\n",
       "      <td>5</td>\n",
       "      <td>420</td>\n",
       "      <td>173</td>\n",
       "      <td>6</td>\n",
       "      <td>5</td>\n",
       "      <td>8</td>\n",
       "      <td>39</td>\n",
       "      <td>...</td>\n",
       "      <td>107</td>\n",
       "      <td>138</td>\n",
       "      <td>87</td>\n",
       "      <td>0.502890</td>\n",
       "      <td>0.254762</td>\n",
       "      <td>15.300000</td>\n",
       "      <td>1.5</td>\n",
       "      <td>Low</td>\n",
       "      <td>2.333333</td>\n",
       "      <td>2.550000</td>\n",
       "    </tr>\n",
       "    <tr>\n",
       "      <th>11099</th>\n",
       "      <td>11099</td>\n",
       "      <td>.\\validrandommaze\\ran_14_5_177437.txt</td>\n",
       "      <td>14</td>\n",
       "      <td>5</td>\n",
       "      <td>420</td>\n",
       "      <td>173</td>\n",
       "      <td>6</td>\n",
       "      <td>5</td>\n",
       "      <td>9</td>\n",
       "      <td>65</td>\n",
       "      <td>...</td>\n",
       "      <td>207</td>\n",
       "      <td>212</td>\n",
       "      <td>110</td>\n",
       "      <td>0.635838</td>\n",
       "      <td>0.492857</td>\n",
       "      <td>8.166667</td>\n",
       "      <td>1.5</td>\n",
       "      <td>Low</td>\n",
       "      <td>1.000000</td>\n",
       "      <td>1.361111</td>\n",
       "    </tr>\n",
       "  </tbody>\n",
       "</table>\n",
       "<p>10 rows × 21 columns</p>\n",
       "</div>"
      ],
      "text/plain": [
       "       Unnamed: 0                               MazeName  MazeSize  \\\n",
       "11090       11090  .\\validrandommaze\\ran_14_5_177437.txt        14   \n",
       "11091       11091  .\\validrandommaze\\ran_14_5_177437.txt        14   \n",
       "11092       11092  .\\validrandommaze\\ran_14_5_177437.txt        14   \n",
       "11093       11093  .\\validrandommaze\\ran_14_5_177437.txt        14   \n",
       "11094       11094  .\\validrandommaze\\ran_14_5_177437.txt        14   \n",
       "11095       11095  .\\validrandommaze\\ran_14_5_177437.txt        14   \n",
       "11096       11096  .\\validrandommaze\\ran_14_5_177437.txt        14   \n",
       "11097       11097  .\\validrandommaze\\ran_14_5_177437.txt        14   \n",
       "11098       11098  .\\validrandommaze\\ran_14_5_177437.txt        14   \n",
       "11099       11099  .\\validrandommaze\\ran_14_5_177437.txt        14   \n",
       "\n",
       "       MazeAttempt  MazeNPossibleWalls  MazeNWalls  MazeShortestPath  \\\n",
       "11090            5                 420         173                 6   \n",
       "11091            5                 420         173                 6   \n",
       "11092            5                 420         173                 6   \n",
       "11093            5                 420         173                 6   \n",
       "11094            5                 420         173                 6   \n",
       "11095            5                 420         173                 6   \n",
       "11096            5                 420         173                 6   \n",
       "11097            5                 420         173                 6   \n",
       "11098            5                 420         173                 6   \n",
       "11099            5                 420         173                 6   \n",
       "\n",
       "       RobotExpMode  RobotIteration  RobotRun0Moves         ...          \\\n",
       "11090             5               0              47         ...           \n",
       "11091             5               1              67         ...           \n",
       "11092             5               2              62         ...           \n",
       "11093             5               3              47         ...           \n",
       "11094             5               4              39         ...           \n",
       "11095             5               5              39         ...           \n",
       "11096             5               6              39         ...           \n",
       "11097             5               7              38         ...           \n",
       "11098             5               8              39         ...           \n",
       "11099             5               9              65         ...           \n",
       "\n",
       "       RobotRun0Known  RobotRun1Known  RobotKnownWalls  RobotPercWallsDisc  \\\n",
       "11090             145             145               87            0.502890   \n",
       "11091             220             225              113            0.653179   \n",
       "11092             194             199              107            0.618497   \n",
       "11093             145             145               87            0.502890   \n",
       "11094             107             138               87            0.502890   \n",
       "11095             116             202              109            0.630058   \n",
       "11096             107             138               87            0.502890   \n",
       "11097             114             139               85            0.491329   \n",
       "11098             107             138               87            0.502890   \n",
       "11099             207             212              110            0.635838   \n",
       "\n",
       "       RobotPercMazeDiscRun0  RobotScore  MazeComplexity  MazeComplexityLab  \\\n",
       "11090               0.345238    7.566667             1.5                Low   \n",
       "11091               0.523810    8.233333             1.5                Low   \n",
       "11092               0.461905    8.066667             1.5                Low   \n",
       "11093               0.345238    7.566667             1.5                Low   \n",
       "11094               0.254762   15.300000             1.5                Low   \n",
       "11095               0.276190   31.300000             1.5                Low   \n",
       "11096               0.254762   15.300000             1.5                Low   \n",
       "11097               0.271429   15.266667             1.5                Low   \n",
       "11098               0.254762   15.300000             1.5                Low   \n",
       "11099               0.492857    8.166667             1.5                Low   \n",
       "\n",
       "      Run1Effectiveness  ScoreEffectiveness  \n",
       "11090          1.000000            1.261111  \n",
       "11091          1.000000            1.372222  \n",
       "11092          1.000000            1.344444  \n",
       "11093          1.000000            1.261111  \n",
       "11094          2.333333            2.550000  \n",
       "11095          5.000000            5.216667  \n",
       "11096          2.333333            2.550000  \n",
       "11097          2.333333            2.544444  \n",
       "11098          2.333333            2.550000  \n",
       "11099          1.000000            1.361111  \n",
       "\n",
       "[10 rows x 21 columns]"
      ]
     },
     "execution_count": 46,
     "metadata": {},
     "output_type": "execute_result"
    }
   ],
   "source": [
    "df_diff=df5[(df5.MazeName=='.\\\\validrandommaze\\\\ran_14_5_177437.txt') ]\n",
    "df_diff.to_csv('difficult_maze.csv')\n",
    "df_diff"
   ]
  },
  {
   "cell_type": "code",
   "execution_count": 47,
   "metadata": {},
   "outputs": [
    {
     "data": {
      "text/plain": [
       "<matplotlib.axes._subplots.AxesSubplot at 0x1f7cd3c2710>"
      ]
     },
     "execution_count": 47,
     "metadata": {},
     "output_type": "execute_result"
    },
    {
     "data": {
      "image/png": "[encoded data removed]",
      "text/plain": [
       "<Figure size 432x288 with 1 Axes>"
      ]
     },
     "metadata": {},
     "output_type": "display_data"
    }
   ],
   "source": [
    "sns.histplot(df_diff.RobotScore, bins=30)"
   ]
  },
  {
   "cell_type": "code",
   "execution_count": 48,
   "metadata": {},
   "outputs": [
    {
     "data": {
      "text/plain": [
       "array([6], dtype=int64)"
      ]
     },
     "execution_count": 48,
     "metadata": {},
     "output_type": "execute_result"
    }
   ],
   "source": [
    "df_diff.MazeShortestPath.unique()"
   ]
  },
  {
   "cell_type": "code",
   "execution_count": 49,
   "metadata": {},
   "outputs": [
    {
     "data": {
      "text/html": [
       "<div>\n",
       "<style scoped>\n",
       "    .dataframe tbody tr th:only-of-type {\n",
       "        vertical-align: middle;\n",
       "    }\n",
       "\n",
       "    .dataframe tbody tr th {\n",
       "        vertical-align: top;\n",
       "    }\n",
       "\n",
       "    .dataframe thead th {\n",
       "        text-align: right;\n",
       "    }\n",
       "</style>\n",
       "<table border=\"1\" class=\"dataframe\">\n",
       "  <thead>\n",
       "    <tr style=\"text-align: right;\">\n",
       "      <th></th>\n",
       "      <th>RobotScore</th>\n",
       "      <th>Run1Effectiveness</th>\n",
       "      <th>ScoreEffectiveness</th>\n",
       "      <th>RobotRun0Moves</th>\n",
       "      <th>RobotRun1Moves</th>\n",
       "    </tr>\n",
       "  </thead>\n",
       "  <tbody>\n",
       "    <tr>\n",
       "      <th>11090</th>\n",
       "      <td>7.566667</td>\n",
       "      <td>1.000000</td>\n",
       "      <td>1.261111</td>\n",
       "      <td>47</td>\n",
       "      <td>6</td>\n",
       "    </tr>\n",
       "    <tr>\n",
       "      <th>11093</th>\n",
       "      <td>7.566667</td>\n",
       "      <td>1.000000</td>\n",
       "      <td>1.261111</td>\n",
       "      <td>47</td>\n",
       "      <td>6</td>\n",
       "    </tr>\n",
       "    <tr>\n",
       "      <th>11092</th>\n",
       "      <td>8.066667</td>\n",
       "      <td>1.000000</td>\n",
       "      <td>1.344444</td>\n",
       "      <td>62</td>\n",
       "      <td>6</td>\n",
       "    </tr>\n",
       "    <tr>\n",
       "      <th>11099</th>\n",
       "      <td>8.166667</td>\n",
       "      <td>1.000000</td>\n",
       "      <td>1.361111</td>\n",
       "      <td>65</td>\n",
       "      <td>6</td>\n",
       "    </tr>\n",
       "    <tr>\n",
       "      <th>11091</th>\n",
       "      <td>8.233333</td>\n",
       "      <td>1.000000</td>\n",
       "      <td>1.372222</td>\n",
       "      <td>67</td>\n",
       "      <td>6</td>\n",
       "    </tr>\n",
       "    <tr>\n",
       "      <th>11097</th>\n",
       "      <td>15.266667</td>\n",
       "      <td>2.333333</td>\n",
       "      <td>2.544444</td>\n",
       "      <td>38</td>\n",
       "      <td>14</td>\n",
       "    </tr>\n",
       "    <tr>\n",
       "      <th>11094</th>\n",
       "      <td>15.300000</td>\n",
       "      <td>2.333333</td>\n",
       "      <td>2.550000</td>\n",
       "      <td>39</td>\n",
       "      <td>14</td>\n",
       "    </tr>\n",
       "    <tr>\n",
       "      <th>11096</th>\n",
       "      <td>15.300000</td>\n",
       "      <td>2.333333</td>\n",
       "      <td>2.550000</td>\n",
       "      <td>39</td>\n",
       "      <td>14</td>\n",
       "    </tr>\n",
       "    <tr>\n",
       "      <th>11098</th>\n",
       "      <td>15.300000</td>\n",
       "      <td>2.333333</td>\n",
       "      <td>2.550000</td>\n",
       "      <td>39</td>\n",
       "      <td>14</td>\n",
       "    </tr>\n",
       "    <tr>\n",
       "      <th>11095</th>\n",
       "      <td>31.300000</td>\n",
       "      <td>5.000000</td>\n",
       "      <td>5.216667</td>\n",
       "      <td>39</td>\n",
       "      <td>30</td>\n",
       "    </tr>\n",
       "  </tbody>\n",
       "</table>\n",
       "</div>"
      ],
      "text/plain": [
       "       RobotScore  Run1Effectiveness  ScoreEffectiveness  RobotRun0Moves  \\\n",
       "11090    7.566667           1.000000            1.261111              47   \n",
       "11093    7.566667           1.000000            1.261111              47   \n",
       "11092    8.066667           1.000000            1.344444              62   \n",
       "11099    8.166667           1.000000            1.361111              65   \n",
       "11091    8.233333           1.000000            1.372222              67   \n",
       "11097   15.266667           2.333333            2.544444              38   \n",
       "11094   15.300000           2.333333            2.550000              39   \n",
       "11096   15.300000           2.333333            2.550000              39   \n",
       "11098   15.300000           2.333333            2.550000              39   \n",
       "11095   31.300000           5.000000            5.216667              39   \n",
       "\n",
       "       RobotRun1Moves  \n",
       "11090               6  \n",
       "11093               6  \n",
       "11092               6  \n",
       "11099               6  \n",
       "11091               6  \n",
       "11097              14  \n",
       "11094              14  \n",
       "11096              14  \n",
       "11098              14  \n",
       "11095              30  "
      ]
     },
     "execution_count": 49,
     "metadata": {},
     "output_type": "execute_result"
    }
   ],
   "source": [
    "df_diff[['RobotScore', 'Run1Effectiveness','ScoreEffectiveness', 'RobotRun0Moves', 'RobotRun1Moves']].sort_values('RobotScore')"
   ]
  },
  {
   "cell_type": "markdown",
   "metadata": {},
   "source": [
    "As visible from figures above, behavior of the robot can be divided into two sets. In the first 5 rows:\n",
    "- Robot spent an average of about 57 moves in run 0\n",
    "- Run 1 was on shortest path (run1 effectiveness = 1) \n",
    "- Score was about 8 points\n",
    "\n",
    "For the remaining half of the runs:\n",
    "- Robot spent 38 or 39 moves in run 0\n",
    "- Run 1 took more than twice the shortest path (up to 5 time the shortest path in one run)  \n",
    "- Score ranging from 15 to 30 ponts"
   ]
  },
  {
   "cell_type": "markdown",
   "metadata": {},
   "source": [
    "The explanation of this behavior required an additional dedicated analysis, running the robot again for a set of runs and this time tracking the path taken. The oucome is discussed in detail in project write up"
   ]
  },
  {
   "cell_type": "code",
   "execution_count": null,
   "metadata": {},
   "outputs": [],
   "source": []
  }
 ],
 "metadata": {
  "kernelspec": {
   "display_name": "Python 3",
   "language": "python",
   "name": "python3"
  },
  "language_info": {
   "codemirror_mode": {
    "name": "ipython",
    "version": 3
   },
   "file_extension": ".py",
   "mimetype": "text/x-python",
   "name": "python",
   "nbconvert_exporter": "python",
   "pygments_lexer": "ipython3",
   "version": "3.6.5"
  }
 },
 "nbformat": 4,
 "nbformat_minor": 2
}
